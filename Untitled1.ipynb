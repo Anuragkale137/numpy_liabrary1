{
  "nbformat": 4,
  "nbformat_minor": 0,
  "metadata": {
    "colab": {
      "provenance": []
    },
    "kernelspec": {
      "name": "python3",
      "display_name": "Python 3"
    },
    "language_info": {
      "name": "python"
    }
  },
  "cells": [
    {
      "cell_type": "code",
      "execution_count": null,
      "metadata": {
        "id": "UjTp_O6Zd621"
      },
      "outputs": [],
      "source": [
        "#1. Explain the purpose and advantages of NumPy in scientific computing and data analysis. How does it\n",
        "#enhance Python's capabilities for numerical operations?\n",
        "#answer->Performance: NumPy arrays are more efficient than Python lists for numerical operations due to their optimized performance. They are implemented in C, allowing for faster execution.\n",
        "\n",
        "#Multidimensional Arrays: It provides support for n-dimensional arrays (ndarrays), which are essential for handling complex data structures and performing mathematical operations in multiple dimensions.\n",
        "\n",
        "#Broadcasting: NumPy allows operations on arrays of different shapes through broadcasting, enabling intuitive and efficient calculations without the need for explicit loops.\n",
        "\n",
        "#Mathematical Functions: It offers a wide range of mathematical functions, making it easy to perform operations like linear algebra, statistical analysis, and Fourier transforms.\n",
        "\n",
        "#Integration with Other Libraries: NumPy serves as the foundation for many other scientific libraries (like SciPy, Pandas, and Matplotlib), enhancing Python's overall capabilities for data analysis and visualization.\n",
        "\n",
        "#In summary, NumPy enhances Python's numerical operations by providing efficient data structures, powerful mathematical functions, and seamless integration with other scientific computing tools.\n",
        "\n",
        "\n",
        "\n"
      ]
    },
    {
      "cell_type": "code",
      "source": [
        "#question no 2. Compare and contrast np.mean() and np.average() functions in NumPy. When would you use one over the\n",
        "#other?\n",
        "#answer->The `np.mean()` and `np.average()` functions in NumPy are both used to compute the central tendency of data, but they have some key differences:\n",
        "\n",
        "### `np.mean()`\n",
        "#- **Functionality**: Computes the arithmetic mean of array elements along a specified axis.\n",
        "#- **Usage**: Simple and straightforward; best when you need the basic average without additional weights.\n",
        "#- **Performance**: Generally faster due to its simplicity.\n",
        "\n",
        "### `np.average()`\n",
        "#- **Functionality**: Computes the weighted average if weights are provided; otherwise, it behaves like `np.mean()`.\n",
        "#- **Usage**: Use when you need to account for varying importance of elements through weights.\n",
        "#- **Flexibility**: Allows specifying the axis and provides options for normalization.\n",
        "\n",
        "### When to Use:\n",
        "#- **Use `np.mean()`** when you simply want the average value of the data.\n",
        "#- **Use `np.average()`** when you need to compute a weighted average or when dealing with more complex scenarios involving weights.\n"
      ],
      "metadata": {
        "id": "U3U7GonEg1LZ"
      },
      "execution_count": null,
      "outputs": []
    },
    {
      "cell_type": "code",
      "source": [
        "# question no 3. Describe the methods for reversing a NumPy array along different axes. Provide examples for 1D and 2D\n",
        "#arrays.\n",
        "#answer->Reversing a NumPy array can be done using slicing or the `np.flip()` function along specified axes.\n",
        "import numpy as np\n",
        "arr1d=np.array([1,2,3,4,5,6])\n",
        "reversed_array=arr1d[::-1]\n",
        "print(reversed_array)\n",
        "\n"
      ],
      "metadata": {
        "colab": {
          "base_uri": "https://localhost:8080/"
        },
        "id": "nMKoPglfh0eY",
        "outputId": "a6b87ab0-be0d-40c9-800d-acb4f99f8ebd"
      },
      "execution_count": null,
      "outputs": [
        {
          "output_type": "stream",
          "name": "stdout",
          "text": [
            "[6 5 4 3 2 1]\n"
          ]
        }
      ]
    },
    {
      "cell_type": "code",
      "source": [
        "import numpy as np\n",
        "arr1d=np.array([1,2,3,4,5,6])\n",
        "reversed_array=np.flip(arr1d)\n",
        "print(reversed_array)\n"
      ],
      "metadata": {
        "colab": {
          "base_uri": "https://localhost:8080/"
        },
        "id": "Z3o9gHOxjHNC",
        "outputId": "fa45fecf-e2a6-4ac9-d57e-c3fad1cee95a"
      },
      "execution_count": null,
      "outputs": [
        {
          "output_type": "stream",
          "name": "stdout",
          "text": [
            "[6 5 4 3 2 1]\n"
          ]
        }
      ]
    },
    {
      "cell_type": "code",
      "source": [
        "import numpy as np\n",
        "arr2d=np.array([[1,2,3],[4,5,6],[7,8,9]])\n",
        "reversed_array=arr2d[::-1]\n",
        "print(reversed_array)"
      ],
      "metadata": {
        "colab": {
          "base_uri": "https://localhost:8080/"
        },
        "id": "_4lWMMoTjnOW",
        "outputId": "aa1f4f3d-2b6d-4ad1-bad3-39c2b584d21d"
      },
      "execution_count": null,
      "outputs": [
        {
          "output_type": "stream",
          "name": "stdout",
          "text": [
            "[[7 8 9]\n",
            " [4 5 6]\n",
            " [1 2 3]]\n"
          ]
        }
      ]
    },
    {
      "cell_type": "code",
      "source": [
        "import numpy as np\n",
        "arr2d=np.array([[1,2,3],[4,5,6],[7,8,9]])\n",
        "reversed_array=np.flip(arr2d,axis=0)\n",
        "print(reversed_array)"
      ],
      "metadata": {
        "colab": {
          "base_uri": "https://localhost:8080/"
        },
        "id": "BJiO0TnJkEjf",
        "outputId": "54b42d78-bfc4-4e04-f361-42bc0259aba5"
      },
      "execution_count": null,
      "outputs": [
        {
          "output_type": "stream",
          "name": "stdout",
          "text": [
            "[[7 8 9]\n",
            " [4 5 6]\n",
            " [1 2 3]]\n"
          ]
        }
      ]
    },
    {
      "cell_type": "code",
      "source": [
        "#question no 4 4. How can you determine the data type of elements in a NumPy array? Discuss the importance of data types\n",
        "#in memory management and performance.\n",
        "# amswer->\n",
        "import numpy as np\n",
        "arr=np.array([1,2,3,4])\n",
        "print(arr.dtype)"
      ],
      "metadata": {
        "id": "b14zETO1kT19",
        "colab": {
          "base_uri": "https://localhost:8080/"
        },
        "outputId": "e91bf56e-71c8-4624-a650-e93d731a51fe"
      },
      "execution_count": 1,
      "outputs": [
        {
          "output_type": "stream",
          "name": "stdout",
          "text": [
            "int64\n"
          ]
        }
      ]
    },
    {
      "cell_type": "code",
      "source": [
        "#importance in memory manegement and performance-Memory Efficiency: Different data types consume varying amounts of memory. Using appropriate types minimizes waste, allowing programs to run more efficiently.\n",
        "\n",
        "#Access Speed: Smaller data types can lead to faster access times. For instance, using int instead of long where possible can enhance performance due to better cache utilization.\n",
        "\n",
        "#Type Safety: Strongly typed languages help prevent errors by enforcing data types at compile time, reducing runtime crashes and improving stability.\n",
        "\n",
        "#Optimization: Compilers can optimize code better when they know the data types being used, leading to improved execution speed and reduced resource usage.\n",
        "\n",
        "#Data Structures: Proper data types are essential for efficient data structure design, impacting how data is stored, retrieved, and manipulated."
      ],
      "metadata": {
        "id": "uS9ugeSSfI6a"
      },
      "execution_count": 2,
      "outputs": []
    },
    {
      "cell_type": "code",
      "source": [
        "#question no  Define ndarrays in NumPy and explain their key features. How do they differ from standard Python lists?\n",
        "#answer->\n",
        "import numpy as np\n",
        "arr=np.array([1,2,3,4])\n",
        "print(arr)"
      ],
      "metadata": {
        "colab": {
          "base_uri": "https://localhost:8080/"
        },
        "id": "6VCrgUlLgFkm",
        "outputId": "406bd000-6e03-4f65-99a3-c111c2f5f04c"
      },
      "execution_count": 3,
      "outputs": [
        {
          "output_type": "stream",
          "name": "stdout",
          "text": [
            "[1 2 3 4]\n"
          ]
        }
      ]
    },
    {
      "cell_type": "code",
      "source": [
        "#key features of ndarrays in numpy and differnce between them :Homogeneous Data: All elements must be of the same type.\n",
        "#Multidimensional: Supports vectors, matrices, and higher dimensions.\n",
        "#Performance: Faster and more memory-efficient than lists.\n",
        "#Element-wise Operations: Allows vectorized operations without loops.\n",
        "#Broadcasting: Facilitates operations on arrays of different shapes.\n",
        "#Advanced Indexing: Supports complex slicing and data extraction.\n",
        "#Differences from Python Lists:\n",
        "#Data Type: Ndarrays require a single data type; lists can be mixed.\n",
        "#Speed: Ndarrays are generally faster for numerical tasks.\n",
        "#Functionality: NumPy offers extensive mathematical functions not found in lists.\n",
        "#Dimensionality: Ndarrays are designed for multiple dimensions, while lists are inherently one-dimensional.\n"
      ],
      "metadata": {
        "id": "dpGJo1s1gpOz"
      },
      "execution_count": 4,
      "outputs": []
    },
    {
      "cell_type": "code",
      "source": [
        "# question no 6: Analyze the performance benefits of NumPy arrays over Python lists for large-scale numerical operations.\n",
        "#answer->#Data Type: Ndarrays require a single data type; lists can be mixed.\n",
        "#Speed: Ndarrays are generally faster for numerical tasks.\n",
        "#Functionality: NumPy offers extensive mathematical functions not found in lists.\n",
        "#Dimensionality: Ndarrays are designed for multiple dimensions, while lists are inherently one-dimensional."
      ],
      "metadata": {
        "id": "hNzS9p-Chqhb"
      },
      "execution_count": 5,
      "outputs": []
    },
    {
      "cell_type": "code",
      "source": [
        "#question no 77. Compare vstack() and hstack() functions in NumPy. Provide examples demonstrating their usage and output.\n",
        "#answer->vstack adds vertically or stacks vertically\n",
        "#        hstack()adds horizontaly or stacks horizontaly\n",
        "import numpy as np\n",
        "arr1=np.array([[1,2],[3,4]])\n",
        "arr2=np.array([[5,6],[7,8]])\n",
        "vertical_stack=np.vstack((arr1,arr2))\n",
        "print(vertical_stack)"
      ],
      "metadata": {
        "colab": {
          "base_uri": "https://localhost:8080/"
        },
        "id": "S1YW6RvoiHsC",
        "outputId": "4b7eb788-0249-4c21-a514-a652e9fc4acb"
      },
      "execution_count": 9,
      "outputs": [
        {
          "output_type": "stream",
          "name": "stdout",
          "text": [
            "[[1 2]\n",
            " [3 4]\n",
            " [5 6]\n",
            " [7 8]]\n"
          ]
        }
      ]
    },
    {
      "cell_type": "code",
      "source": [
        "import numpy as np\n",
        "arr1=np.array([[1,2],[3,4]])\n",
        "arr2=np.array([[5,6],[7,8]])\n",
        "vertical_stack=np.hstack((arr1,arr2))\n",
        "print(vertical_stack)"
      ],
      "metadata": {
        "colab": {
          "base_uri": "https://localhost:8080/"
        },
        "id": "Ya_V9bDmjfSS",
        "outputId": "1e9cb5f8-8582-4613-cf35-ef005c81391d"
      },
      "execution_count": 10,
      "outputs": [
        {
          "output_type": "stream",
          "name": "stdout",
          "text": [
            "[[1 2 5 6]\n",
            " [3 4 7 8]]\n"
          ]
        }
      ]
    },
    {
      "cell_type": "code",
      "source": [
        "# question no 8. Explain the differences between fliplr() and flipud() methods in NumPy, including their effects on various array dimensions.\n",
        "#answer-> fliplr()\n",
        "#Purpose: Flips an array left to right (horizontally).\n",
        "#Applicable Dimensions: Works primarily on 2D arrays (matrices).\n",
        "#Effect: Reverses the order of columns\n",
        "# flipud()\n",
        "#Purpose: Flips an array upside down (vertically).\n",
        "#Applicable Dimensions: Works on 2D arrays but can also be used on higher-dimensional arrays, affecting the first axis.\n",
        "#Effect: Reverses the order of rows.\n",
        "import numpy as np\n",
        "arr=np.array([[1,2,3],[4,5,6],[7,8,9]])\n",
        "flipped_array=np.fliplr(arr)\n",
        "print(flipped_array)"
      ],
      "metadata": {
        "colab": {
          "base_uri": "https://localhost:8080/"
        },
        "id": "-n312KSQkCc4",
        "outputId": "066f6525-e048-4a81-a1d4-9097223ca65e"
      },
      "execution_count": 12,
      "outputs": [
        {
          "output_type": "stream",
          "name": "stdout",
          "text": [
            "[[3 2 1]\n",
            " [6 5 4]\n",
            " [9 8 7]]\n"
          ]
        }
      ]
    },
    {
      "cell_type": "code",
      "source": [
        "np.ndim(flipped_array)"
      ],
      "metadata": {
        "colab": {
          "base_uri": "https://localhost:8080/"
        },
        "id": "GsWStl4DljSH",
        "outputId": "e22db392-f1b2-4cce-be66-660244a1c738"
      },
      "execution_count": 14,
      "outputs": [
        {
          "output_type": "execute_result",
          "data": {
            "text/plain": [
              "2"
            ]
          },
          "metadata": {},
          "execution_count": 14
        }
      ]
    },
    {
      "cell_type": "code",
      "source": [
        "np.shape(flipped_array)"
      ],
      "metadata": {
        "colab": {
          "base_uri": "https://localhost:8080/"
        },
        "id": "aOj8iVYmmCT3",
        "outputId": "6a5dea69-2e84-44ea-b249-9c7ab8c6d00a"
      },
      "execution_count": 15,
      "outputs": [
        {
          "output_type": "execute_result",
          "data": {
            "text/plain": [
              "(3, 3)"
            ]
          },
          "metadata": {},
          "execution_count": 15
        }
      ]
    },
    {
      "cell_type": "code",
      "source": [
        "import numpy as np\n",
        "arr=np.array([[1,2,3],[4,5,6],[7,8,9]])\n",
        "flipped_array=np.flipud(arr)\n",
        "print(flipped_array)"
      ],
      "metadata": {
        "colab": {
          "base_uri": "https://localhost:8080/"
        },
        "id": "eYXibBvjmPRg",
        "outputId": "74622ad2-0315-4995-a819-8d831005998d"
      },
      "execution_count": 16,
      "outputs": [
        {
          "output_type": "stream",
          "name": "stdout",
          "text": [
            "[[7 8 9]\n",
            " [4 5 6]\n",
            " [1 2 3]]\n"
          ]
        }
      ]
    },
    {
      "cell_type": "code",
      "source": [
        "#question no 9. Discuss the functionality of the array_split() method in NumPy. How does it handle uneven splits?\n",
        "#answer->\n",
        "import numpy as np\n",
        "arr=np.array([1,2,3,4,5,6,7])\n",
        "splited_array=np.array_split(arr,3)\n",
        "print(splited_array)"
      ],
      "metadata": {
        "colab": {
          "base_uri": "https://localhost:8080/"
        },
        "id": "FtD2AVeQmV2v",
        "outputId": "194a1ab9-dd13-4894-c14c-80ab402c7cd2"
      },
      "execution_count": 19,
      "outputs": [
        {
          "output_type": "stream",
          "name": "stdout",
          "text": [
            "[array([1, 2, 3]), array([4, 5]), array([6, 7])]\n"
          ]
        }
      ]
    },
    {
      "cell_type": "code",
      "source": [
        "#question no 10. Explain the concepts of vectorization and broadcasting in NumPy. How do they contribute to efficient array operations?\n",
        "#answer->\n",
        "import numpy as np\n",
        "arr1=np.array([[1,2,3],[4,5,6]])\n",
        "arr2=np.array([[6,7,8],[4,3,2]])\n",
        "result=arr1+arr2\n",
        "print(result)"
      ],
      "metadata": {
        "colab": {
          "base_uri": "https://localhost:8080/"
        },
        "id": "0vtXGyoenBN2",
        "outputId": "cac68324-d7f5-43aa-b5fc-f4452243c8ed"
      },
      "execution_count": 21,
      "outputs": [
        {
          "output_type": "stream",
          "name": "stdout",
          "text": [
            "[[ 7  9 11]\n",
            " [ 8  8  8]]\n"
          ]
        }
      ]
    },
    {
      "cell_type": "code",
      "source": [
        "import numpy as np\n",
        "arr=np.array([1,2,3,4,5,6,7,8,9])\n",
        "result=arr+20\n",
        "print(result)"
      ],
      "metadata": {
        "colab": {
          "base_uri": "https://localhost:8080/"
        },
        "id": "Pfj-IT9Un4yZ",
        "outputId": "590cd0ce-3ba7-41e9-c7af-2747f67d912c"
      },
      "execution_count": 22,
      "outputs": [
        {
          "output_type": "stream",
          "name": "stdout",
          "text": [
            "[21 22 23 24 25 26 27 28 29]\n"
          ]
        }
      ]
    },
    {
      "cell_type": "code",
      "source": [
        "#Practical Question\n",
        "#question no 1. Create a 3x3 NumPy array with random integers between 1 and 100. Then, interchange its rows and columns.\n",
        "#answer->\n",
        "import numpy as np\n",
        "arr=np.random.randint(1,100,(3,3))\n",
        "print(arr)"
      ],
      "metadata": {
        "colab": {
          "base_uri": "https://localhost:8080/"
        },
        "id": "Bia09MpmoN9G",
        "outputId": "eb6218b8-0d3b-41b7-b968-e1c0f77d0c6a"
      },
      "execution_count": 24,
      "outputs": [
        {
          "output_type": "stream",
          "name": "stdout",
          "text": [
            "[[59 16 31]\n",
            " [16 83 31]\n",
            " [98 68 77]]\n"
          ]
        }
      ]
    },
    {
      "cell_type": "code",
      "source": [
        "arr.T\n"
      ],
      "metadata": {
        "colab": {
          "base_uri": "https://localhost:8080/"
        },
        "id": "5kel_pjXovCH",
        "outputId": "cf240743-d815-412a-bb49-3aebd0ee3a2f"
      },
      "execution_count": 27,
      "outputs": [
        {
          "output_type": "execute_result",
          "data": {
            "text/plain": [
              "array([[59, 16, 98],\n",
              "       [16, 83, 68],\n",
              "       [31, 31, 77]])"
            ]
          },
          "metadata": {},
          "execution_count": 27
        }
      ]
    },
    {
      "cell_type": "code",
      "source": [
        "#question no 2. Generate a 1D NumPy array with 10 elements. Reshape it into a 2x5 array, then into a 5x2 array.\n",
        "#answer->\n",
        "import numpy as np\n",
        "arr=np.arange(10)\n",
        "print(arr)"
      ],
      "metadata": {
        "colab": {
          "base_uri": "https://localhost:8080/"
        },
        "id": "7qVUsG0Xo-TX",
        "outputId": "0bbcecd8-80fc-46ff-fa53-9294d0f8caf2"
      },
      "execution_count": 28,
      "outputs": [
        {
          "output_type": "stream",
          "name": "stdout",
          "text": [
            "[0 1 2 3 4 5 6 7 8 9]\n"
          ]
        }
      ]
    },
    {
      "cell_type": "code",
      "source": [
        "arr.reshape(2,5)"
      ],
      "metadata": {
        "colab": {
          "base_uri": "https://localhost:8080/"
        },
        "id": "AqdKHaAsrFB5",
        "outputId": "c4753f08-e5e7-470f-f546-9a4782efe14d"
      },
      "execution_count": 29,
      "outputs": [
        {
          "output_type": "execute_result",
          "data": {
            "text/plain": [
              "array([[0, 1, 2, 3, 4],\n",
              "       [5, 6, 7, 8, 9]])"
            ]
          },
          "metadata": {},
          "execution_count": 29
        }
      ]
    },
    {
      "cell_type": "code",
      "source": [
        "arr.reshape(5,2)"
      ],
      "metadata": {
        "colab": {
          "base_uri": "https://localhost:8080/"
        },
        "id": "H2a4tJkqrMn3",
        "outputId": "7dabe6c0-32ef-444b-c9ac-f98c958696d4"
      },
      "execution_count": 30,
      "outputs": [
        {
          "output_type": "execute_result",
          "data": {
            "text/plain": [
              "array([[0, 1],\n",
              "       [2, 3],\n",
              "       [4, 5],\n",
              "       [6, 7],\n",
              "       [8, 9]])"
            ]
          },
          "metadata": {},
          "execution_count": 30
        }
      ]
    },
    {
      "cell_type": "code",
      "source": [
        "#question no 3. Create a 4x4 NumPy array with random float values. Add a border of zeros around it, resulting in a 6x6 array.\n",
        "#anser->\n",
        "import numpy as np\n",
        "arr=np.random.rand(4,4)\n",
        "print(arr)"
      ],
      "metadata": {
        "colab": {
          "base_uri": "https://localhost:8080/"
        },
        "id": "yeYJQX8PrQNe",
        "outputId": "6657103f-df3a-49fe-c470-527bfd01ab7e"
      },
      "execution_count": 31,
      "outputs": [
        {
          "output_type": "stream",
          "name": "stdout",
          "text": [
            "[[0.16539899 0.31560719 0.02212196 0.25997044]\n",
            " [0.26768371 0.99048374 0.12506918 0.01589014]\n",
            " [0.01895511 0.8602068  0.64529116 0.80313179]\n",
            " [0.57532821 0.4268814  0.69436588 0.06127895]]\n"
          ]
        }
      ]
    },
    {
      "cell_type": "code",
      "source": [
        "arr=np.pad(arr,pad_width=1,mode='constant',constant_values=0)\n",
        "print(arr)"
      ],
      "metadata": {
        "colab": {
          "base_uri": "https://localhost:8080/"
        },
        "id": "IL608Bqvr-L1",
        "outputId": "978f74fb-13b9-4581-9626-c3a23ad8c615"
      },
      "execution_count": 32,
      "outputs": [
        {
          "output_type": "stream",
          "name": "stdout",
          "text": [
            "[[0.         0.         0.         0.         0.         0.        ]\n",
            " [0.         0.16539899 0.31560719 0.02212196 0.25997044 0.        ]\n",
            " [0.         0.26768371 0.99048374 0.12506918 0.01589014 0.        ]\n",
            " [0.         0.01895511 0.8602068  0.64529116 0.80313179 0.        ]\n",
            " [0.         0.57532821 0.4268814  0.69436588 0.06127895 0.        ]\n",
            " [0.         0.         0.         0.         0.         0.        ]]\n"
          ]
        }
      ]
    },
    {
      "cell_type": "code",
      "source": [
        "#question no 4. Using NumPy, create an array of integers from 10 to 60 with a step of 5\n",
        "#anser->\n",
        "import numpy as np\n",
        "arr=np.arange(10,61,5)\n",
        "print(arr)"
      ],
      "metadata": {
        "colab": {
          "base_uri": "https://localhost:8080/"
        },
        "id": "hcXSQbd1slcz",
        "outputId": "55389ec6-c599-46a4-ecb2-7cd368b37580"
      },
      "execution_count": 33,
      "outputs": [
        {
          "output_type": "stream",
          "name": "stdout",
          "text": [
            "[10 15 20 25 30 35 40 45 50 55 60]\n"
          ]
        }
      ]
    },
    {
      "cell_type": "code",
      "source": [
        "#question no 5. Create a NumPy array of strings ['python', 'numpy', 'pandas']. Apply different case transformations (uppercase, lowercase, title case, etc.) to each element.\n",
        "#answer->\n",
        "import numpy as np\n",
        "arr=np.array([[\"python\",\"numpy\",\"pandas\"]])\n",
        "print(arr)"
      ],
      "metadata": {
        "colab": {
          "base_uri": "https://localhost:8080/"
        },
        "id": "Oig1y5tgthBZ",
        "outputId": "1d9eb493-9a50-4fc0-9511-af7edccbf809"
      },
      "execution_count": 38,
      "outputs": [
        {
          "output_type": "stream",
          "name": "stdout",
          "text": [
            "[['python' 'numpy' 'pandas']]\n"
          ]
        }
      ]
    },
    {
      "cell_type": "code",
      "source": [
        "np.char.upper(arr)\n",
        "\n"
      ],
      "metadata": {
        "colab": {
          "base_uri": "https://localhost:8080/"
        },
        "id": "Ef1ckh1EuHXf",
        "outputId": "8adf114b-684d-43d9-874b-1f112c144156"
      },
      "execution_count": 39,
      "outputs": [
        {
          "output_type": "execute_result",
          "data": {
            "text/plain": [
              "array([['PYTHON', 'NUMPY', 'PANDAS']], dtype='<U6')"
            ]
          },
          "metadata": {},
          "execution_count": 39
        }
      ]
    },
    {
      "cell_type": "code",
      "source": [
        "np.char.lower(arr)"
      ],
      "metadata": {
        "colab": {
          "base_uri": "https://localhost:8080/"
        },
        "id": "4ykuixU9uRwO",
        "outputId": "e803c564-7d2a-42e7-cef7-594206b1d6b3"
      },
      "execution_count": 41,
      "outputs": [
        {
          "output_type": "execute_result",
          "data": {
            "text/plain": [
              "array([['python', 'numpy', 'pandas']], dtype='<U6')"
            ]
          },
          "metadata": {},
          "execution_count": 41
        }
      ]
    },
    {
      "cell_type": "code",
      "source": [
        "np.char.title(arr)"
      ],
      "metadata": {
        "colab": {
          "base_uri": "https://localhost:8080/"
        },
        "id": "oUQgwYy6uqXL",
        "outputId": "1ff67811-44b1-4876-b6e4-a117d4cbc866"
      },
      "execution_count": 42,
      "outputs": [
        {
          "output_type": "execute_result",
          "data": {
            "text/plain": [
              "array([['Python', 'Numpy', 'Pandas']], dtype='<U6')"
            ]
          },
          "metadata": {},
          "execution_count": 42
        }
      ]
    },
    {
      "cell_type": "code",
      "source": [
        "#question no 6. Generate a NumPy array of words. Insert a space between each character of every word in the array.\n",
        "#answer->\n",
        "import numpy as np\n",
        "arr=np.array([[\"python\",\"numpy\",\"pandas\"]])\n",
        "print(arr)"
      ],
      "metadata": {
        "colab": {
          "base_uri": "https://localhost:8080/"
        },
        "id": "8n4h7cdPuyqG",
        "outputId": "e6378567-9af3-409b-8998-76676edfc7d3"
      },
      "execution_count": 43,
      "outputs": [
        {
          "output_type": "stream",
          "name": "stdout",
          "text": [
            "[['python' 'numpy' 'pandas']]\n"
          ]
        }
      ]
    },
    {
      "cell_type": "code",
      "source": [
        "np.char.join(\" \",arr)"
      ],
      "metadata": {
        "colab": {
          "base_uri": "https://localhost:8080/"
        },
        "id": "OXy8Ky9yvE8X",
        "outputId": "17b43225-79a2-4ac2-d39f-08af851af34e"
      },
      "execution_count": 44,
      "outputs": [
        {
          "output_type": "execute_result",
          "data": {
            "text/plain": [
              "array([['p y t h o n', 'n u m p y', 'p a n d a s']], dtype='<U11')"
            ]
          },
          "metadata": {},
          "execution_count": 44
        }
      ]
    },
    {
      "cell_type": "code",
      "source": [
        "#question no 7. Create two 2D NumPy arrays and perform element-wise addition, subtraction, multiplication, and division.\n",
        "#answer->\n",
        "import numpy as np\n",
        "arr1=np.array([[1,2,3],[4,5,6]])\n",
        "arr2=np.array([[6,7,8],[4,3,2]])\n",
        "result=arr1+arr2\n",
        "print(result)"
      ],
      "metadata": {
        "colab": {
          "base_uri": "https://localhost:8080/"
        },
        "id": "d3HnZ8BGvO6T",
        "outputId": "c5cca96f-eb73-42ad-8d9c-e01573513c89"
      },
      "execution_count": 45,
      "outputs": [
        {
          "output_type": "stream",
          "name": "stdout",
          "text": [
            "[[ 7  9 11]\n",
            " [ 8  8  8]]\n"
          ]
        }
      ]
    },
    {
      "cell_type": "code",
      "source": [
        "import numpy as np\n",
        "arr1=np.array([[1,2,3],[4,5,6]])\n",
        "arr2=np.array([[6,7,8],[4,3,2]])\n",
        "result=arr1*arr2\n",
        "print(result)"
      ],
      "metadata": {
        "colab": {
          "base_uri": "https://localhost:8080/"
        },
        "id": "-2QVUakxvzrm",
        "outputId": "0821045c-9895-4d99-c91f-92f1df04c01e"
      },
      "execution_count": 46,
      "outputs": [
        {
          "output_type": "stream",
          "name": "stdout",
          "text": [
            "[[ 6 14 24]\n",
            " [16 15 12]]\n"
          ]
        }
      ]
    },
    {
      "cell_type": "code",
      "source": [
        "import numpy as np\n",
        "arr1=np.array([[1,2,3],[4,5,6]])\n",
        "arr2=np.array([[6,7,8],[4,3,2]])\n",
        "result=arr1-arr2\n",
        "print(result)"
      ],
      "metadata": {
        "colab": {
          "base_uri": "https://localhost:8080/"
        },
        "id": "gPbqR521v3D_",
        "outputId": "cfbf4d74-4939-4672-e35a-aedd32de8bca"
      },
      "execution_count": 47,
      "outputs": [
        {
          "output_type": "stream",
          "name": "stdout",
          "text": [
            "[[-5 -5 -5]\n",
            " [ 0  2  4]]\n"
          ]
        }
      ]
    },
    {
      "cell_type": "code",
      "source": [
        "import numpy as np\n",
        "arr1=np.array([[1,2,3],[4,5,6]])\n",
        "arr2=np.array([[6,7,8],[4,3,2]])\n",
        "result=arr1/arr2\n",
        "print(result)"
      ],
      "metadata": {
        "colab": {
          "base_uri": "https://localhost:8080/"
        },
        "id": "4bsj0kQyv8NX",
        "outputId": "e5f8cd7f-48d6-4d6a-a160-70a1a3882e67"
      },
      "execution_count": 48,
      "outputs": [
        {
          "output_type": "stream",
          "name": "stdout",
          "text": [
            "[[0.16666667 0.28571429 0.375     ]\n",
            " [1.         1.66666667 3.        ]]\n"
          ]
        }
      ]
    },
    {
      "cell_type": "code",
      "source": [
        "#question no 8. Use NumPy to create a 5x5 identity matrix, then extract its diagonal elements\n",
        "#answer->\n",
        "import numpy as np\n",
        "arr=np.ones((5,5))\n",
        "print(arr)"
      ],
      "metadata": {
        "colab": {
          "base_uri": "https://localhost:8080/"
        },
        "id": "3YDNTfGKv-we",
        "outputId": "b9840fb6-d1d1-427c-d7bd-30b01b575094"
      },
      "execution_count": 54,
      "outputs": [
        {
          "output_type": "stream",
          "name": "stdout",
          "text": [
            "[[1. 1. 1. 1. 1.]\n",
            " [1. 1. 1. 1. 1.]\n",
            " [1. 1. 1. 1. 1.]\n",
            " [1. 1. 1. 1. 1.]\n",
            " [1. 1. 1. 1. 1.]]\n"
          ]
        }
      ]
    },
    {
      "cell_type": "code",
      "source": [
        "np.diag(arr)"
      ],
      "metadata": {
        "colab": {
          "base_uri": "https://localhost:8080/"
        },
        "id": "uiAWo1MqwYBP",
        "outputId": "85fa6a8e-6fcc-429b-831e-dbe6b0a53414"
      },
      "execution_count": 55,
      "outputs": [
        {
          "output_type": "execute_result",
          "data": {
            "text/plain": [
              "array([1., 1., 1., 1., 1.])"
            ]
          },
          "metadata": {},
          "execution_count": 55
        }
      ]
    },
    {
      "cell_type": "code",
      "source": [
        "#question no 9. Generate a NumPy array of 100 random integers between 0 and 1000. Find and display all prime numbers in this array.\n",
        "#answer->\n",
        "import numpy as np\n",
        "arr=np.random.randint(0,10000,100)\n",
        "print(arr)"
      ],
      "metadata": {
        "colab": {
          "base_uri": "https://localhost:8080/"
        },
        "id": "j3nzpyzcyU6H",
        "outputId": "8dcff1c6-2cc8-48b5-f219-fcf801d9a105"
      },
      "execution_count": 56,
      "outputs": [
        {
          "output_type": "stream",
          "name": "stdout",
          "text": [
            "[6662 2841 5995 3808 3702 4324 4378 6693 8499 1367 7302 5348 5964 2469\n",
            " 4172 6528 2159 3497 2236 4992 6182 1800 3807 3129 2020 5435 6920 9335\n",
            " 4823 1148 5470 3706  123 1120 3301 3834 7212 6901 1464 2109 3760 6240\n",
            " 3081 2273 2914 1783 1514  105 8471 1622  574 4032 1004 3135 7314  633\n",
            " 3823 6304 1229 5066 9283 4662  243 3925 6147 3911 6429 5782  684 7303\n",
            " 6882 5421 7283 5228 9580 4924 8117 3251 7247 6598 1185 3942 3069 9058\n",
            " 5304 4891 4952 6811 4531 4968   67 6032 3661  782 9424 4184 6091 8424\n",
            " 8174 2518]\n"
          ]
        }
      ]
    },
    {
      "cell_type": "code",
      "source": [
        "\n"
      ],
      "metadata": {
        "id": "VvLW9VOvy029"
      },
      "execution_count": 58,
      "outputs": []
    },
    {
      "cell_type": "code",
      "source": [
        "#question no 10. Create a NumPy array representing daily temperatures for a month. Calculate and display the weekly averages.\n",
        "#answer->\n",
        "import numpy as np\n",
        "arr=np.random.randint(0,100,30)\n",
        "print(arr)"
      ],
      "metadata": {
        "colab": {
          "base_uri": "https://localhost:8080/"
        },
        "id": "ulQA3eUDzPI9",
        "outputId": "3c9900b2-2804-463d-f257-676f5546ded5"
      },
      "execution_count": 60,
      "outputs": [
        {
          "output_type": "stream",
          "name": "stdout",
          "text": [
            "[87 19 51 61 40 84  7 34  3 95 37 96 77 92 64 13 75  5 85 59 74 28 16 26\n",
            " 49 57 44 73 98 50]\n"
          ]
        }
      ]
    },
    {
      "cell_type": "code",
      "source": [
        "np.mean(arr)"
      ],
      "metadata": {
        "colab": {
          "base_uri": "https://localhost:8080/"
        },
        "id": "381ZhzQy0RF2",
        "outputId": "3f9e4bf4-3342-4767-e14d-6741ad8c95eb"
      },
      "execution_count": 61,
      "outputs": [
        {
          "output_type": "execute_result",
          "data": {
            "text/plain": [
              "53.3"
            ]
          },
          "metadata": {},
          "execution_count": 61
        }
      ]
    },
    {
      "cell_type": "code",
      "source": [
        "np.median(arr)"
      ],
      "metadata": {
        "colab": {
          "base_uri": "https://localhost:8080/"
        },
        "id": "_OpqirKS0ewp",
        "outputId": "3827473c-b887-4815-b116-88c733c21b88"
      },
      "execution_count": 62,
      "outputs": [
        {
          "output_type": "execute_result",
          "data": {
            "text/plain": [
              "54.0"
            ]
          },
          "metadata": {},
          "execution_count": 62
        }
      ]
    },
    {
      "cell_type": "code",
      "source": [
        "weekly_average=arr[:28].reshape(4,7)\n",
        "print(weekly_average)"
      ],
      "metadata": {
        "colab": {
          "base_uri": "https://localhost:8080/"
        },
        "id": "LVJlyZPR0rud",
        "outputId": "da6da634-a48b-4524-a4b9-c77aaa5362ca"
      },
      "execution_count": 63,
      "outputs": [
        {
          "output_type": "stream",
          "name": "stdout",
          "text": [
            "[[87 19 51 61 40 84  7]\n",
            " [34  3 95 37 96 77 92]\n",
            " [64 13 75  5 85 59 74]\n",
            " [28 16 26 49 57 44 73]]\n"
          ]
        }
      ]
    },
    {
      "cell_type": "code",
      "source": [
        "result=np.mean(weekly_average,axis=1)\n",
        "print(result)"
      ],
      "metadata": {
        "colab": {
          "base_uri": "https://localhost:8080/"
        },
        "id": "0BkC7AAW1VpA",
        "outputId": "74ae6b5c-1625-458c-bb1d-95749d12de1c"
      },
      "execution_count": 64,
      "outputs": [
        {
          "output_type": "stream",
          "name": "stdout",
          "text": [
            "[49.85714286 62.         53.57142857 41.85714286]\n"
          ]
        }
      ]
    },
    {
      "cell_type": "code",
      "source": [],
      "metadata": {
        "id": "Cqz5FaHt1kpd"
      },
      "execution_count": null,
      "outputs": []
    }
  ]
}